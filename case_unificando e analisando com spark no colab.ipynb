{
  "nbformat": 4,
  "nbformat_minor": 0,
  "metadata": {
    "colab": {
      "name": "Untitled4.ipynb",
      "provenance": [],
      "authorship_tag": "ABX9TyN709gIvMniCR4mvWje69u/",
      "include_colab_link": true
    },
    "kernelspec": {
      "name": "python3",
      "display_name": "Python 3"
    }
  },
  "cells": [
    {
      "cell_type": "markdown",
      "metadata": {
        "id": "view-in-github",
        "colab_type": "text"
      },
      "source": [
        "<a href=\"https://colab.research.google.com/github/Denise-Pro/analise-homicidios-rj-e-sp-com-spark-e-powerBI/blob/master/case_unificando%20e%20analisando%20com%20spark%20no%20colab.ipynb\" target=\"_parent\"><img src=\"https://colab.research.google.com/assets/colab-badge.svg\" alt=\"Open In Colab\"/></a>"
      ]
    },
    {
      "cell_type": "code",
      "metadata": {
        "id": "fV2PSL5egaih",
        "colab_type": "code",
        "colab": {}
      },
      "source": [
        "# instalar as dependências\n",
        "!apt-get install openjdk-8-jdk-headless -qq > /dev/null\n",
        "!wget -q https://archive.apache.org/dist/spark/spark-2.4.4/spark-2.4.4-bin-hadoop2.7.tgz\n",
        "!tar xf spark-2.4.4-bin-hadoop2.7.tgz\n",
        "!pip install -q findspark\n",
        "\n",
        "# configurar as variáveis de ambiente\n",
        "import os\n",
        "os.environ[\"JAVA_HOME\"] = \"/usr/lib/jvm/java-8-openjdk-amd64\"\n",
        "os.environ[\"SPARK_HOME\"] = \"/content/spark-2.4.4-bin-hadoop2.7\"\n",
        "\n",
        "# tornar o pyspark \"importável\"\n",
        "import findspark\n",
        "findspark.init('spark-2.4.4-bin-hadoop2.7')\n",
        "\n",
        "\n",
        "# iniciar uma sessão local e importar dados do Airbnb\n",
        "from pyspark.sql import SparkSession\n",
        "sc = SparkSession.builder.master('local[*]').getOrCreate()\n"
      ],
      "execution_count": 3,
      "outputs": []
    },
    {
      "cell_type": "code",
      "metadata": {
        "id": "fiirrYoCgidP",
        "colab_type": "code",
        "colab": {}
      },
      "source": [
        "from pyspark.sql import *"
      ],
      "execution_count": 4,
      "outputs": []
    },
    {
      "cell_type": "code",
      "metadata": {
        "id": "7TwgWWadiRv-",
        "colab_type": "code",
        "colab": {
          "base_uri": "https://localhost:8080/",
          "height": 156
        },
        "outputId": "e4ffbf4d-64e1-4a44-b111-9cfad7a0b4df"
      },
      "source": [
        "# download do http para arquivo local\n",
        "!wget --quiet --show-progress https://noverde-data-engineering-test.s3.amazonaws.com/loans_sample.csv\n",
        "\n",
        "# carregando dados do arquivo Csv\n",
        "df_spark_csv = sc.read.csv(\"./loans_sample.csv\", inferSchema=True, header=True)\n",
        "\n",
        "# ver algumas informações sobre os tipos de dados de cada coluna\n",
        "df_spark_csv.printSchema()"
      ],
      "execution_count": 8,
      "outputs": [
        {
          "output_type": "stream",
          "text": [
            "\rloans_sample.csv.1    0%[                    ]       0  --.-KB/s               \rloans_sample.csv.1  100%[===================>]  44.36K  --.-KB/s    in 0.06s   \n",
            "root\n",
            " |-- loan_id: integer (nullable = true)\n",
            " |-- period: integer (nullable = true)\n",
            " |-- accepted_at: timestamp (nullable = true)\n",
            " |-- payday: integer (nullable = true)\n",
            " |-- interest_rate: double (nullable = true)\n",
            "\n"
          ],
          "name": "stdout"
        }
      ]
    },
    {
      "cell_type": "code",
      "metadata": {
        "id": "DP6Ysc_0jXYb",
        "colab_type": "code",
        "colab": {
          "base_uri": "https://localhost:8080/",
          "height": 72
        },
        "outputId": "40739957-70b3-4b9f-b6ef-1a54ee8fa480"
      },
      "source": [
        "# download do http para arquivo local\n",
        "!wget --quiet --show-progress https://noverde-data-engineering-test.s3.amazonaws.com/installments_sample.json\n",
        "\n",
        "# carregando dados do arquivo Csv\n",
        "df_spark_json = sc.read.json(\"./installments_sample.json\")\n",
        "\n",
        "# ver algumas informações sobre os tipos de dados de cada coluna\n",
        "display(df_spark_json)"
      ],
      "execution_count": 13,
      "outputs": [
        {
          "output_type": "stream",
          "text": [
            "installments_sample 100%[===================>] 983.37K  3.10MB/s    in 0.3s    \n"
          ],
          "name": "stdout"
        },
        {
          "output_type": "display_data",
          "data": {
            "text/plain": [
              "DataFrame[data: array<struct<due_date:string,installment_id:bigint,installment_value:double,loan_id:bigint,number:bigint>>, schema: struct<fields:array<struct<name:string,type:string>>,pandas_version:string,primaryKey:array<string>>]"
            ]
          },
          "metadata": {
            "tags": []
          }
        }
      ]
    },
    {
      "cell_type": "code",
      "metadata": {
        "id": "ZQkVPOyzjmcr",
        "colab_type": "code",
        "colab": {
          "base_uri": "https://localhost:8080/",
          "height": 55
        },
        "outputId": "1805045e-6c9e-4974-a1b3-4cff294e757f"
      },
      "source": [
        "dataset = sc.read.format(\"json\").option(\"multiLine\",True).load(\"./installments_sample.json\")\n",
        "display(dataset)"
      ],
      "execution_count": 18,
      "outputs": [
        {
          "output_type": "display_data",
          "data": {
            "text/plain": [
              "DataFrame[data: array<struct<due_date:string,installment_id:bigint,installment_value:double,loan_id:bigint,number:bigint>>, schema: struct<fields:array<struct<name:string,type:string>>,pandas_version:string,primaryKey:array<string>>]"
            ]
          },
          "metadata": {
            "tags": []
          }
        }
      ]
    },
    {
      "cell_type": "code",
      "metadata": {
        "id": "UjOC8lMilIzc",
        "colab_type": "code",
        "colab": {
          "base_uri": "https://localhost:8080/",
          "height": 173
        },
        "outputId": "39c417de-d7d5-4b47-ae24-0c64f3d3c973"
      },
      "source": [
        "# download do http para arquivo local\n",
        "!wget --quiet --show-progress https://noverde-data-engineering-test.s3.amazonaws.com/payments_sample.parquet\n",
        "data = sc.read.format(\"parquet\").load(\"./payments_sample.parquet\")\n",
        "data.printSchema()"
      ],
      "execution_count": 20,
      "outputs": [
        {
          "output_type": "stream",
          "text": [
            "payments_sample.par 100%[===================>] 253.90K  1.02MB/s    in 0.2s    \n",
            "root\n",
            " |-- loan_id: long (nullable = true)\n",
            " |-- installment_id: long (nullable = true)\n",
            " |-- payment_date: date (nullable = true)\n",
            " |-- payment_method: string (nullable = true)\n",
            " |-- payment_id: string (nullable = true)\n",
            " |-- paid_amount: double (nullable = true)\n",
            "\n"
          ],
          "name": "stdout"
        }
      ]
    },
    {
      "cell_type": "code",
      "metadata": {
        "id": "kmmEjZ1onejB",
        "colab_type": "code",
        "colab": {}
      },
      "source": [
        ""
      ],
      "execution_count": null,
      "outputs": []
    }
  ]
}